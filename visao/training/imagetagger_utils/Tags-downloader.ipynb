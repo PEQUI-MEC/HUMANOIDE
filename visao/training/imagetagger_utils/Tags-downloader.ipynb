{
 "cells": [
  {
   "cell_type": "markdown",
   "metadata": {},
   "source": [
    "Crawler que acessa o todos os imagesets indicados e cria/baixa um tag específica"
   ]
  },
  {
   "cell_type": "code",
   "execution_count": 87,
   "metadata": {},
   "outputs": [
    {
     "name": "stdout",
     "output_type": "stream",
     "text": [
      "N datasets: 42\n"
     ]
    }
   ],
   "source": [
    "import sys\n",
    "import getpass\n",
    "import shutil\n",
    "import os\n",
    "from lxml import html\n",
    "try:\n",
    "    import requests\n",
    "except ImportError:\n",
    "    print(\"Python3 requests is not installed. Please use e.g. pip3 install requests\")\n",
    "    sys.exit()\n",
    "\n",
    "imageset = [258, 157, 160, 258, 196, 197, 168, 166, 2, 262, 261, 260, 20, 19, 21, 149, 233, 159, 81, 34, 155, 154, 156, 153, 35, 36, 33, 25, 5, 7, 12, 13, 14, 15, 16, 17, 18, 29, 30, 31, 32, 33]\n",
    "\n",
    "print('N datasets: {}'.format(len(imageset)))\n",
    "\n",
    "s = requests.Session()\n",
    "\n",
    "BaseUrl = \"https://imagetagger.bit-bots.de\" + \"/\"\n",
    "user = \"pequi\"\n",
    "password = \"pequimecanico\"\n",
    "filename=\"data\"\n",
    "if not os.path.exists(os.getcwd() + '/' +filename):\n",
    "    os.makedirs(os.getcwd()+'/'+filename)\n",
    "\n",
    "loginpage = s.get(BaseUrl)\n",
    "\n",
    "csrftoken = loginpage.cookies['csrftoken']\n",
    "csrfmiddlewaretoken = csrftoken\n",
    "\n",
    "data = {'username': user,\n",
    "        'password': password,\n",
    "        'csrfmiddlewaretoken': csrfmiddlewaretoken}\n",
    "loggedinpage = s.post(\n",
    "    '{}user/login/'.format(BaseUrl),\n",
    "    data=data,\n",
    "    allow_redirects=False,\n",
    "    headers={'referer': BaseUrl})\n",
    "\n",
    "try:\n",
    "\tsessionid  = loggedinpage.cookies['sessionid']\n",
    "except:\n",
    "\tprint('Login failed')"
   ]
  },
  {
   "cell_type": "code",
   "execution_count": 101,
   "metadata": {},
   "outputs": [],
   "source": [
    "TAGS_PATH = os.path.abspath('tags')\n",
    "TAG_ID = 33 #No select do site\n",
    "TAG_NAME = 'base' #Nome da tag\n",
    "\n",
    "def download_tag(current_imageset, tag_number, tag_name):\n",
    "    current_imageset = str(current_imageset)\n",
    "    if(os.path.isfile(os.path.join(TAGS_PATH, '{}.txt'.format(current_imageset)))):\n",
    "        return\n",
    "    page = s.get(\"{}images/imageset/{}/\".format(BaseUrl,current_imageset))\n",
    "    if(page.status_code != 200):\n",
    "        return\n",
    "    page_html = html.document_fromstring(page.text)\n",
    "    tag_notfound = True\n",
    "    #Se quiser sempre gerar uma tag nova mesmo que ja exista remova este 'for-loop' abaixo.\n",
    "    for h3 in page_html.cssselect('h3'):\n",
    "        if(h3.text_content() == 'Download exports:'):\n",
    "            for a in h3.getparent().cssselect('a'):\n",
    "                if(a.text_content().split(':')[0] == tag_name):\n",
    "                    download_link = BaseUrl[:-1] + a.get('href')\n",
    "                    tag_notfound = False\n",
    "                    tag = s.get(download_link, allow_redirects=True)\n",
    "                    open(os.path.join(TAGS_PATH, '{}.txt'.format(current_imageset)), 'wb').write(tag.content)\n",
    "                    break\n",
    "    if(tag_notfound):\n",
    "        csrfmiddlewaretoken = page_html.cssselect('input[name=csrfmiddlewaretoken]')[0].get('value')\n",
    "        data = {'export_format': str(tag_number),\n",
    "                'export': 'Export',\n",
    "                'csrfmiddlewaretoken': csrfmiddlewaretoken}\n",
    "        s.post(\"{}annotations/export/{}/\".format(BaseUrl,current_imageset)\n",
    "               ,data = data\n",
    "               ,allow_redirects=False\n",
    "               ,headers={'referer': BaseUrl})\n",
    "        download_tag(current_imageset, tag_number, tag_name)\n",
    "\n",
    "for dataset in os.listdir('data'):\n",
    "    download_tag(dataset, TAG_ID, TAG_NAME)"
   ]
  }
 ],
 "metadata": {
  "kernelspec": {
   "display_name": "Python 3",
   "language": "python",
   "name": "python3"
  },
  "language_info": {
   "codemirror_mode": {
    "name": "ipython",
    "version": 3
   },
   "file_extension": ".py",
   "mimetype": "text/x-python",
   "name": "python",
   "nbconvert_exporter": "python",
   "pygments_lexer": "ipython3",
   "version": "3.6.4"
  }
 },
 "nbformat": 4,
 "nbformat_minor": 2
}
