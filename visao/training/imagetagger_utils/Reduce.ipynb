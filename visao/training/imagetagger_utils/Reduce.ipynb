{
 "cells": [
  {
   "cell_type": "markdown",
   "metadata": {},
   "source": [
    "Reduz um dataset e gera um arquivo de tag de acordo (tags devem estar no formato base)"
   ]
  },
  {
   "cell_type": "code",
   "execution_count": 115,
   "metadata": {},
   "outputs": [],
   "source": [
    "import sys\n",
    "import os\n",
    "import glob\n",
    "from shutil import copyfile\n",
    "import shutil\n",
    "import numpy as np\n",
    "import json\n",
    "\n",
    "TAGS_PATH = os.path.join('.','tags')\n",
    "DATA_PATH = os.path.join('.','datasets')\n",
    "DEST_PATH = os.path.join('.','reduced')\n",
    "TOTAL_PHOTOS = 4617\n",
    "TARGET = 2000\n",
    "rate = TARGET/TOTAL_PHOTOS"
   ]
  },
  {
   "cell_type": "code",
   "execution_count": 111,
   "metadata": {},
   "outputs": [],
   "source": [
    "def find_annotations(datsetnumber, files):\n",
    "    annotations = []\n",
    "    datsetnumber = str(datsetnumber)\n",
    "    tag_path = os.path.join(TAGS_PATH,'{}.txt'.format(datsetnumber))\n",
    "    if(not os.path.isfile(tag_path)):\n",
    "        return annotations\n",
    "    tags_file = open(tag_path, 'r', encoding='utf8')\n",
    "    tags = tags_file.read()\n",
    "    tags = tags.replace('.png', '.jpg')\n",
    "    tags = tags.replace('.PNG', '.jpg')\n",
    "    tags = tags.split('\\n')[1:-1]\n",
    "    for tag in tags:\n",
    "        splitted = tag.split('|')\n",
    "        filename = splitted[0]\n",
    "        atype = splitted[1]\n",
    "        splitted[0] = datsetnumber + '_' + splitted[0]\n",
    "        if((filename in files) and (atype in ['ball', 'goal', 'robot'])):\n",
    "            annotations.append('|'.join(splitted))\n",
    "        elif((filename in files) and (atype in ['goalpost'])):\n",
    "            if(splitted[2]=='not in image'):\n",
    "                annotations.append('|'.join(splitted))\n",
    "            else:\n",
    "                vector = splitted[2][:-2]+'}'\n",
    "                vector_json = json.loads(vector)\n",
    "                vector_json.pop('x2', None)\n",
    "                vector_json.pop('y2', None)\n",
    "                vector_json.pop('x4', None)\n",
    "                vector_json.pop('y4', None)\n",
    "                vector_json['x2'] = vector_json.pop('x3', None)\n",
    "                vector_json['y2'] = vector_json.pop('y3', None)\n",
    "                splitted[2] = json.dumps(vector_json)\n",
    "                annotations.append('|'.join(splitted))\n",
    "    tags_file.close()\n",
    "    return annotations"
   ]
  },
  {
   "cell_type": "code",
   "execution_count": 112,
   "metadata": {},
   "outputs": [],
   "source": [
    "annotation=[]\n",
    "count = 0\n",
    "DatasetCounter = 0\n",
    "def createNewPath():\n",
    "    global DatasetCounter\n",
    "    DatasetCounter += 1\n",
    "    dataset_path = os.path.join(DEST_PATH, str(DatasetCounter))\n",
    "    if not os.path.exists(dataset_path):\n",
    "        os.makedirs(dataset_path)\n",
    "    return dataset_path\n",
    "path = createNewPath()"
   ]
  },
  {
   "cell_type": "code",
   "execution_count": 116,
   "metadata": {
    "scrolled": true
   },
   "outputs": [
    {
     "name": "stderr",
     "output_type": "stream",
     "text": [
      "/home/eduardo/anaconda3/envs/humanoid/lib/python3.5/site-packages/ipykernel_launcher.py:5: DeprecationWarning: object of type <class 'float'> cannot be safely interpreted as an integer.\n",
      "  \"\"\"\n"
     ]
    }
   ],
   "source": [
    "folder_annotation = []\n",
    "for root, dirs, files in os.walk(DATA_PATH):\n",
    "    if len(files) > 0:\n",
    "        len_target = len(files)*rate\n",
    "        indices = np.linspace(0, len(files)-1, len_target,dtype=int)\n",
    "        selected_files = [files[i] for i in indices]\n",
    "        annotations = find_annotations(root.split('/')[-1], selected_files)\n",
    "        folder_annotation.extend(annotations)\n",
    "        for file in selected_files:\n",
    "            img_path = os.path.join(root, file)\n",
    "            img_dest = os.path.join(path, root.split('/')[-1]+'_'+file)\n",
    "            copyfile(img_path, img_dest)\n",
    "            count = count + 1\n",
    "        if(count >= 950):\n",
    "            annotation_path = os.path.join(DEST_PATH, str(DatasetCounter)+'.txt')\n",
    "            annotation_file = open(annotation_path, 'w')\n",
    "            annotation_file.write('\\n'.join(folder_annotation))\n",
    "            annotation_file.close()\n",
    "            path = createNewPath()\n",
    "            count = 0\n",
    "            folder_annotation = []"
   ]
  },
  {
   "cell_type": "code",
   "execution_count": 114,
   "metadata": {},
   "outputs": [],
   "source": [
    "\"\"\"annotation_path = os.path.join(DEST_PATH, str(DatasetCounter)+'.txt')\n",
    "annotation_file = open(annotation_path, 'w')\n",
    "annotation_file.write('\\n'.join(folder_annotation))\n",
    "annotation_file.close()\n",
    "path = createNewPath()\n",
    "count = 0\n",
    "folder_annotation = []\"\"\""
   ]
  }
 ],
 "metadata": {
  "kernelspec": {
   "display_name": "Python 3",
   "language": "python",
   "name": "python3"
  },
  "language_info": {
   "codemirror_mode": {
    "name": "ipython",
    "version": 3
   },
   "file_extension": ".py",
   "mimetype": "text/x-python",
   "name": "python",
   "nbconvert_exporter": "python",
   "pygments_lexer": "ipython3",
   "version": "3.6.4"
  }
 },
 "nbformat": 4,
 "nbformat_minor": 2
}
