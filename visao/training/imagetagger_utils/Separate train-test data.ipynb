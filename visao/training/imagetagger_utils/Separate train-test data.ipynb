{
 "cells": [
  {
   "cell_type": "code",
   "execution_count": 48,
   "metadata": {},
   "outputs": [],
   "source": [
    "import pandas as pd\n",
    "import os\n",
    "import shutil\n",
    "from sklearn.model_selection import train_test_split"
   ]
  },
  {
   "cell_type": "code",
   "execution_count": 49,
   "metadata": {},
   "outputs": [],
   "source": [
    "TAGS_FOLDER = './tags'\n",
    "IMAGES_FOLDER = './images'\n",
    "TARGET_FOLDER = '../images'\n",
    "\n",
    "tags = None\n",
    "for file in os.listdir(TAGS_FOLDER):\n",
    "    if(tags is None):\n",
    "        tags = pd.read_csv(os.path.join(TAGS_FOLDER, file))\n",
    "        continue\n",
    "    tags2 = pd.read_csv(os.path.join(TAGS_FOLDER, file))\n",
    "    tags = tags.append(tags2, ignore_index=True)\n",
    "    \n",
    "train,test = train_test_split(tags, test_size=0.05)\n",
    "train.to_csv(os.path.join(TARGET_FOLDER, 'train_labels.csv'))\n",
    "test.to_csv(os.path.join(TARGET_FOLDER, 'test_labels.csv'))\n",
    "\n",
    "for i,row in train.iterrows():\n",
    "    train_target = os.path.join(TARGET_FOLDER,'train')\n",
    "    filepath = os.path.join(IMAGES_FOLDER,row['filename'])\n",
    "    target_filepath = os.path.join(train_target,row['filename'])\n",
    "    if(!os.path.isfile(target_filepath)):\n",
    "        shutil.copyfile(filepath,target_filepath)\n",
    "for i,row in test.iterrows():\n",
    "    test_target = os.path.join(TARGET_FOLDER,'test')\n",
    "    filepath = os.path.join(IMAGES_FOLDER,row['filename'])\n",
    "    target_filepath = os.path.join(test_target,row['filename'])\n",
    "    if(!os.path.isfile(target_filepath)):\n",
    "        shutil.copyfile(filepath,target_filepath)"
   ]
  }
 ],
 "metadata": {
  "kernelspec": {
   "display_name": "Python 3",
   "language": "python",
   "name": "python3"
  },
  "language_info": {
   "codemirror_mode": {
    "name": "ipython",
    "version": 3
   },
   "file_extension": ".py",
   "mimetype": "text/x-python",
   "name": "python",
   "nbconvert_exporter": "python",
   "pygments_lexer": "ipython3",
   "version": "3.5.4"
  }
 },
 "nbformat": 4,
 "nbformat_minor": 2
}
