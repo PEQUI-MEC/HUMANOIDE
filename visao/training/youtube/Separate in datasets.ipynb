{
 "cells": [
  {
   "cell_type": "code",
   "execution_count": 20,
   "metadata": {},
   "outputs": [],
   "source": [
    "import sys\n",
    "import os\n",
    "import glob\n",
    "from shutil import copyfile\n",
    "\n",
    "DATA_PATH = os.path.join('.','data')\n",
    "DATASETS_PATH = os.path.join('.','datasets')"
   ]
  },
  {
   "cell_type": "code",
   "execution_count": 3,
   "metadata": {},
   "outputs": [
    {
     "name": "stdout",
     "output_type": "stream",
     "text": [
      "Video Count= 86/86"
     ]
    }
   ],
   "source": [
    "links_path = 'links.txt'\n",
    "links_file = open(links_path, 'r')\n",
    "links = links_file.read().split('\\n')\n",
    "from pytube import YouTube\n",
    "yts = []\n",
    "for index,link in enumerate(links):\n",
    "    yt = YouTube(link)\n",
    "    yts.append(yt)\n",
    "    text = \"\\rVideo Count= {}/{}\".format(index+1,len(links))\n",
    "    sys.stdout.write(text)\n",
    "    sys.stdout.flush()"
   ]
  },
  {
   "cell_type": "code",
   "execution_count": 23,
   "metadata": {},
   "outputs": [],
   "source": [
    "DatasetCounter = 0\n",
    "def createNewPath():\n",
    "    global DatasetCounter\n",
    "    DatasetCounter += 1\n",
    "    dataset_path = os.path.join(DATASETS_PATH, str(DatasetCounter))\n",
    "    if not os.path.exists(dataset_path):\n",
    "        os.makedirs(dataset_path)\n",
    "    return dataset_path"
   ]
  },
  {
   "cell_type": "code",
   "execution_count": 24,
   "metadata": {},
   "outputs": [],
   "source": [
    "number_of_files = 0\n",
    "root_list = []\n",
    "temp_list = []\n",
    "path = createNewPath()\n",
    "index = 1\n",
    "for root, dirs, files in os.walk(DATA_PATH):\n",
    "    if len(files) > 0:\n",
    "        if number_of_files+len(files) > 1000:\n",
    "            path = createNewPath()\n",
    "            number_of_files = 0\n",
    "            root_list.append(temp_list)\n",
    "            temp_list = []\n",
    "        number_of_files += len(files)\n",
    "        for file in files:\n",
    "            img_path = os.path.join(root, file)\n",
    "            dest_path = os.path.join(path, str(index)+'-'+file)\n",
    "            copyfile(img_path, dest_path)\n",
    "        temp_list.append(root)\n",
    "        index += 1\n",
    "root_list.append(temp_list)"
   ]
  },
  {
   "cell_type": "code",
   "execution_count": 43,
   "metadata": {},
   "outputs": [
    {
     "data": {
      "text/plain": [
       "[['[RoboCup2018] Round of Sixteen Bold Hearts vs CIT Brains [https://youtube.com/watch?v=3J_yJMqMVkE]',\n",
       "  '[RoboCup 2016 shorts] RR1 - Rhoban VS Hamburg Bit-Bots [https://youtube.com/watch?v=bcEmHkTBJ9g]',\n",
       "  '[RoboCup 2016] RR1 Rhoban VS Hamburg Bit-Bots [https://youtube.com/watch?v=Y-JXjfIzz3E]',\n",
       "  'MRL-HSL Qualification Video for RoboCup 2018 humanoid KidSize [https://youtube.com/watch?v=c7VpAAyXTNI]',\n",
       "  'robocup 2015 final CITBrains vs ZJUDancer 4 [https://youtube.com/watch?v=Bv9yhB3_nYs]',\n",
       "  'CITBrains vs Photon2 [https://youtube.com/watch?v=Vsbcn6JLZTg]',\n",
       "  '[RoboCup 2016] [Rhoban] Recap of the competition [https://youtube.com/watch?v=lF2gIbs-gq8]',\n",
       "  '[RoboCup 2016 shorts] RR2 - Rhoban VS KUDOS [https://youtube.com/watch?v=G7mYVUfJd6g]'],\n",
       " ['RoboCup 2015 Humanoid KidSize Qualification Video [https://youtube.com/watch?v=__BfqCFkGJY]',\n",
       "  '[RoboCup 2017][Quarter final] SEU-Unibot (China) vs Rhoban [https://youtube.com/watch?v=EmXxLYS0TMU]',\n",
       "  'robocup 2015 final CITBrains vs ZJUDancer 2 [https://youtube.com/watch?v=D9IDQunHrlQ]',\n",
       "  '[RoboCup2018] Quater Final CIT Brains vs Rhoban (First half) [https://youtube.com/watch?v=0dYUcytbeOk]',\n",
       "  '[RoboCup2018] Quater Final CIT Brains vs Rhoban (Latter half) [https://youtube.com/watch?v=JfEyI1avYgs]',\n",
       "  '[RoboCup 2017][Round Robin] EROS (Indonesia) vs Rhoban [https://youtube.com/watch?v=bLHUFfPOLBw]',\n",
       "  'Robocup 2017 [https://youtube.com/watch?v=cmpgU9mIDiU]',\n",
       "  '[RoboCup 2016 shorts] RR2 - Rhoban VS RoBIU [https://youtube.com/watch?v=LKo0vCIFvVs]',\n",
       "  'Robocup 2015 Humanoid Highlights [https://youtube.com/watch?v=1gWSHPidFZ0]',\n",
       "  '[RoboCup 2017][FINAL] Zju Dancer (China) vs Rhoban [https://youtube.com/watch?v=UStWRR1r4aU]',\n",
       "  'CITBrains vs Hamburg Bit Bots1 [https://youtube.com/watch?v=MFfbxBUbVM8]',\n",
       "  'EROS_Team - RoboCup 2017 Qualification Humanoid KidSize League [https://youtube.com/watch?v=lDz4Ikbq8Yo]'],\n",
       " ['[RoboCup 2017] [Rhoban] Recap of the competition [https://youtube.com/watch?v=_DasbaxU1Jg]',\n",
       "  'RoboCup2017 KidSize 3rd place match Barelang FC vs CITBrains [https://youtube.com/watch?v=_2NSihEqCvA]',\n",
       "  '[RoboCup 2017][Round Robin] CIT Brain (Japan) vs Rhoban [https://youtube.com/watch?v=jVKqQeadPv8]',\n",
       "  'RoboCup 2017 KidSize Barelang vs CIT Brains [https://youtube.com/watch?v=dP3G4VOlOUw]',\n",
       "  'Bold Hearts - RoboCup 2016 Qualification - Kid Size Humanoid League [https://youtube.com/watch?v=s1ExpRSUFeo]',\n",
       "  'RoboCup 2016 Humanoid KidSize Qualification Video [https://youtube.com/watch?v=SeJztClOwL8]',\n",
       "  'Humanoid mini robot soccer Robocup 2013 Holland ( WK games robotvoetbal Netherlands ) [https://youtube.com/watch?v=s6VIWDUHTa4]',\n",
       "  'Bold Hearts - RoboCup 2017 Qualification - Kid Size Humanoid League [https://youtube.com/watch?v=UWCssXGjJiQ]',\n",
       "  'Bold Hearts - RoboCup 2018 Qualification - Kid Size Humanoid League [https://youtube.com/watch?v=CaZP5I9xwUw]',\n",
       "  '[RoboCup 2017] Amical Game - CIT (Japan) vs Rhoban [https://youtube.com/watch?v=483Q_Z9epUQ]',\n",
       "  'EROS_Team - RoboCup 2016 Qualification Humanoid KidSize League [https://youtube.com/watch?v=fqKxnZ-0cX4]',\n",
       "  'EROS_Team - RoboCup 2016 Qualification Humanoid KidSize League [https://youtube.com/watch?v=Fki3N-oMDtc]',\n",
       "  'Qualification Video 2017 WF Wolves [https://youtube.com/watch?v=A58FOArrJAw]'],\n",
       " ['[RoboCup 2017] First training game [https://youtube.com/watch?v=J2jXM8QLftA]',\n",
       "  '[RoboCup 2016 shorts] RR1 - Rhoban VS CIT Brains [https://youtube.com/watch?v=1hFNnRN6D7U]',\n",
       "  'RoboFEI HT Qualification Video for RoboCup 2015 [https://youtube.com/watch?v=szJXdV5MSlM]',\n",
       "  'RoboFEI HT Qualification Video for RoboCup 2017 [https://youtube.com/watch?v=so5U2kkhX0A]',\n",
       "  '[RoboCup 2016 shorts] Finale - Rhoban VS  ZJUDancer [https://youtube.com/watch?v=bE24_N6tEaM]',\n",
       "  'Funniest dives of RoboCup 2016 [https://youtube.com/watch?v=1h5147KLikU]',\n",
       "  'Jetson TX1 - YOLO動作デモ [https://youtube.com/watch?v=NWAI4Fl4vEE]',\n",
       "  'Rhoban Football Club Qualification Video for Robocup 2018 (Montreal) [https://youtube.com/watch?v=5ySydBZ5vO8]',\n",
       "  'EROS 4 PENS (ROBOCUP 2014) 1 [https://youtube.com/watch?v=O2iX8mZRBBU]',\n",
       "  'Best goals of RoboCup 2016 [https://youtube.com/watch?v=bD-UPoLMoXw]',\n",
       "  'CIT Brains Robocup 2018 Qualification Video Kidsize Humanoid League [https://youtube.com/watch?v=caT5n84DilM]'],\n",
       " ['RoboCup Humanoid TeenSize Qualification 2016 [https://youtube.com/watch?v=fioTSjNkn2E]',\n",
       "  '[RoboCup 2017][Round Robin] Falconbots (Mexican) vs Rhoban [https://youtube.com/watch?v=qddoCFB7F9Y]',\n",
       "  '[RoboCup 2016] Rhoban first Setup day [https://youtube.com/watch?v=IxjZh086yC4]',\n",
       "  'Playing robot soccer with the humanoid NAO robots on Dutch Robocup 2013 Eindhoven Holland [https://youtube.com/watch?v=3e_6A9ifcUY]',\n",
       "  'Robocup 2018 Semi Final HTWK vs- Hulks [https://youtube.com/watch?v=ZTcRE67nTzw]',\n",
       "  'Rhoban Football Club Qualification Video for Robocup 2016 (Leipzig) [https://youtube.com/watch?v=VItIaOX8oIU]',\n",
       "  '[RoboCup 2018][Quarter Finals] CIT (Japan) vs Rhoban [https://youtube.com/watch?v=3MzlHSea6kQ]',\n",
       "  '【ジャパンオープン】決勝戦\\u3000(後半) [https://youtube.com/watch?v=0SmK8hjRvCI]']]"
      ]
     },
     "execution_count": 43,
     "metadata": {},
     "output_type": "execute_result"
    }
   ],
   "source": [
    "ytname_list = []\n",
    "for dataset_root in root_list:\n",
    "    temp_list = []\n",
    "    for name_path in dataset_root:\n",
    "        name = name_path.replace('./data/', '')\n",
    "        for youtube in yts:\n",
    "            if(youtube.title == name):\n",
    "                temp_list.append(name + ' [' + youtube.watch_url + ']')\n",
    "    ytname_list.append(temp_list)\n",
    "ytname_list"
   ]
  },
  {
   "cell_type": "code",
   "execution_count": 46,
   "metadata": {},
   "outputs": [],
   "source": [
    "DatasetCounter = 1\n",
    "for dataset in ytname_list:\n",
    "    dataset_path = os.path.join(DATASETS_PATH, str(DatasetCounter))\n",
    "    file_path = os.path.join(dataset_path, 'youtube_links.txt')\n",
    "    file = open(file_path, 'w')\n",
    "    for link in dataset:\n",
    "        file.write(link+'\\n')\n",
    "    DatasetCounter += 1\n",
    "    #os.remove(file_path)\n",
    "    #DatasetCounter += 1"
   ]
  }
 ],
 "metadata": {
  "kernelspec": {
   "display_name": "Python 3",
   "language": "python",
   "name": "python3"
  },
  "language_info": {
   "codemirror_mode": {
    "name": "ipython",
    "version": 3
   },
   "file_extension": ".py",
   "mimetype": "text/x-python",
   "name": "python",
   "nbconvert_exporter": "python",
   "pygments_lexer": "ipython3",
   "version": "3.6.4"
  }
 },
 "nbformat": 4,
 "nbformat_minor": 2
}
