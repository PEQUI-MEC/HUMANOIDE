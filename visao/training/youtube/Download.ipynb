{
 "cells": [
  {
   "cell_type": "code",
   "execution_count": 2,
   "metadata": {},
   "outputs": [],
   "source": [
    "links_path = 'links.txt'\n",
    "links_file = open(links_path, 'r')\n",
    "links = links_file.read().split('\\n')"
   ]
  },
  {
   "cell_type": "code",
   "execution_count": 9,
   "metadata": {},
   "outputs": [
    {
     "name": "stdout",
     "output_type": "stream",
     "text": [
      "Video Count= 86/86"
     ]
    }
   ],
   "source": [
    "from pytube import YouTube\n",
    "import sys\n",
    "yts = []\n",
    "for index,link in enumerate(links):\n",
    "    yt = YouTube(link)\n",
    "    yts.append(yt)\n",
    "    text = \"\\rVideo Count= {}/{}\".format(index+1,len(links))\n",
    "    sys.stdout.write(text)\n",
    "    sys.stdout.flush()"
   ]
  },
  {
   "cell_type": "code",
   "execution_count": 14,
   "metadata": {},
   "outputs": [
    {
     "name": "stdout",
     "output_type": "stream",
     "text": [
      "found\n"
     ]
    }
   ],
   "source": [
    "y = None\n",
    "for yt in yts:\n",
    "    if(yt.title == '[RoboCup 2017][Round Robin] CIT Brain (Japan) vs Rhoban'):\n",
    "        print('found')\n",
    "        y = yt"
   ]
  },
  {
   "cell_type": "code",
   "execution_count": 27,
   "metadata": {},
   "outputs": [],
   "source": [
    "y.streams.itag_index[137].download()"
   ]
  }
 ],
 "metadata": {
  "kernelspec": {
   "display_name": "Python 3",
   "language": "python",
   "name": "python3"
  },
  "language_info": {
   "codemirror_mode": {
    "name": "ipython",
    "version": 3
   },
   "file_extension": ".py",
   "mimetype": "text/x-python",
   "name": "python",
   "nbconvert_exporter": "python",
   "pygments_lexer": "ipython3",
   "version": "3.5.4"
  }
 },
 "nbformat": 4,
 "nbformat_minor": 2
}
