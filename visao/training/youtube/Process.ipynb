{
 "cells": [
  {
   "cell_type": "code",
   "execution_count": 1,
   "metadata": {},
   "outputs": [],
   "source": [
    "import os\n",
    "import glob\n",
    "import sys\n",
    "\n",
    "mp4_path = '.'\n",
    "img_path = './data/'\n",
    "mp4_list = glob.glob(os.path.join(mp4_path, '*.mp4'))"
   ]
  },
  {
   "cell_type": "code",
   "execution_count": 2,
   "metadata": {},
   "outputs": [],
   "source": [
    "from imutils.video import FileVideoStream\n",
    "from imutils.video import FPS\n",
    "import cv2\n",
    "import imutils\n",
    "import time\n",
    "import numpy as np\n",
    "\n",
    "def getFrames(video_path, save_path):\n",
    "    fvs = FileVideoStream(video_path).start()\n",
    "    time.sleep(1.0)\n",
    "    video = fvs.stream\n",
    "    fps = video.get(cv2.CAP_PROP_FPS)\n",
    "    length = int(video.get(cv2.CAP_PROP_FRAME_COUNT))\n",
    "    count = 0\n",
    "    if (length < 5000):\n",
    "        n_frames = int(length*0.017)\n",
    "    elif (length < 20000):\n",
    "        n_frames = int(length*0.007)\n",
    "    else:\n",
    "         n_frames = int(length*0.0025)\n",
    "    frames_list = np.linspace(int(fps*5), length-int(fps*3), num=n_frames).astype(int)\n",
    "    while True:\n",
    "        frame = fvs.read()\n",
    "        count += 1\n",
    "        if(count in frames_list):\n",
    "            cv2.imwrite(os.path.join(save_path,\"framed{}.jpg\").format(count), frame, [int(cv2.IMWRITE_JPEG_QUALITY), 90])\n",
    "        if(count == length):\n",
    "            break\n",
    "    fvs.stop()"
   ]
  },
  {
   "cell_type": "code",
   "execution_count": 5,
   "metadata": {
    "scrolled": false
   },
   "outputs": [
    {
     "name": "stdout",
     "output_type": "stream",
     "text": [
      "Video Count= 4/4"
     ]
    }
   ],
   "source": [
    "for index, mp4 in enumerate(mp4_list):\n",
    "    path = os.path.join(img_path, mp4.split('.')[1].replace('/',''))\n",
    "    if not os.path.exists(path):\n",
    "        os.makedirs(path)\n",
    "    getFrames(mp4, path)\n",
    "    text = \"\\rVideo Count= {}/{}\".format(index+1,len(mp4_list))\n",
    "    sys.stdout.write(text)\n",
    "    sys.stdout.flush()"
   ]
  },
  {
   "cell_type": "code",
   "execution_count": 3,
   "metadata": {},
   "outputs": [],
   "source": [
    "mp4_list =  ['./[RoboCup 2017][Round Robin] CIT Brain (Japan) vs Rhoban.mp4',\n",
    " './[RoboCup2018] Drop-In (620 – 1000 AM).mp4',\n",
    " './2015426 模擬試合.mp4',\n",
    " './MRL-HSL Qualification Video for  RoboCup 2018 humanoid TeenSize.mp4']"
   ]
  }
 ],
 "metadata": {
  "kernelspec": {
   "display_name": "Python 3",
   "language": "python",
   "name": "python3"
  },
  "language_info": {
   "codemirror_mode": {
    "name": "ipython",
    "version": 3
   },
   "file_extension": ".py",
   "mimetype": "text/x-python",
   "name": "python",
   "nbconvert_exporter": "python",
   "pygments_lexer": "ipython3",
   "version": "3.6.4"
  }
 },
 "nbformat": 4,
 "nbformat_minor": 2
}
